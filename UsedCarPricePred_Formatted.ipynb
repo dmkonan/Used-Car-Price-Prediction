{
 "cells": [
  {
   "cell_type": "markdown",
   "id": "f1b29915",
   "metadata": {},
   "source": [
    "#  Used Car Price Prediction\n",
    "*Author: Diane Konan | GitHub: https://dmkonan.github.io/Diane-Konan-Portfolio/ | Email: dimikonan@gmail.com*"
   ]
  },
  {
   "cell_type": "markdown",
   "id": "3a02c1eb",
   "metadata": {},
   "source": [
    "##  Problem Statement\n",
    "Manual car pricing is often inconsistent and subjective, leading to missed revenue opportunities. This project builds a machine learning system to predict fair used car prices based on specifications."
   ]
  },
  {
   "cell_type": "markdown",
   "id": "cef8e233",
   "metadata": {},
   "source": [
    "##  Data Exploration and Cleaning\n",
    "I clean and preprocess ~189K car records with corrupted characters and missing values using domain-specific logic."
   ]
  },
  {
   "cell_type": "markdown",
   "id": "dd596dac",
   "metadata": {},
   "source": [
    "## Feature Engineering\n",
    "Meaningful features like `car_age`, `mileage_per_year`, and `brand_tier` were created. The target variable `price` was log-transformed."
   ]
  },
  {
   "cell_type": "markdown",
   "id": "d0775b9c",
   "metadata": {},
   "source": [
    "##  Model Building and Evaluation\n",
    "We trained and tuned several regression models including Linear, Ridge, Lasso, Random Forest, Gradient Boosting, and XGBoost. A stacked ensemble achieved the best results."
   ]
  },
  {
   "cell_type": "markdown",
   "id": "645a1880",
   "metadata": {},
   "source": [
    "##  Model Performance\n",
    "The final stacked model achieved an R² of 0.866. Top predictors included car age, mileage, and brand tier."
   ]
  },
  {
   "cell_type": "markdown",
   "id": "80b2f77d",
   "metadata": {},
   "source": [
    "##  Deployment Plan\n",
    "The model is deployable via a REST API with real-time prediction capabilities on AWS/Google Cloud."
   ]
  },
  {
   "cell_type": "markdown",
   "id": "0fa9f177",
   "metadata": {},
   "source": [
    "##  Key Takeaways\n",
    "- Final R²: **0.866** using Stacked GB + XGBoost\n",
    "- Most impactful features: Car age, mileage, model tier\n",
    "- Real-time deployment supports better pricing decisions and inventory turnover"
   ]
  },
  {
   "cell_type": "markdown",
   "id": "8dd491b7",
   "metadata": {},
   "source": [
    "USED CAR PRICE PREDICTION PROJECT CODE"
   ]
  },
  {
   "cell_type": "markdown",
   "id": "c29ef97d",
   "metadata": {},
   "source": [
    "****************************************************\n",
    "ESTIMATED CODE RUN TIME: ~ 10-15 minutes\n",
    "INTERACTIVE USER INPUT CODE TOWARDS END OF CODE FOR DEPLOYMENT\n",
    "****************************************************"
   ]
  },
  {
   "cell_type": "code",
   "execution_count": null,
   "id": "4ac3d14d",
   "metadata": {},
   "outputs": [],
   "source": [
    "# Importing necessary libraries\n",
    "import pandas as pd\n",
    "import numpy as np\n",
    "import matplotlib.pyplot as plt\n",
    "import pandas as pd\n",
    "import numpy as np\n",
    "from sklearn.model_selection import KFold, cross_val_score\n",
    "from sklearn.linear_model import LinearRegression, Ridge, Lasso\n",
    "from sklearn.ensemble import RandomForestRegressor, GradientBoostingRegressor, StackingRegressor\n",
    "from xgboost import XGBRegressor\n",
    "from sklearn.neighbors import KNeighborsRegressor\n",
    "from sklearn.metrics import make_scorer, mean_squared_error, mean_absolute_error, r2_score"
   ]
  },
  {
   "cell_type": "code",
   "execution_count": null,
   "id": "7737654f",
   "metadata": {},
   "outputs": [],
   "source": [
    "# Load initial dataset\n",
    "input_path = \"/Users/dianemireillekonan/Python files/\" # change to run on local device\n",
    "file_name = \"Regression of Used Car Prices- train.csv\""
   ]
  },
  {
   "cell_type": "code",
   "execution_count": null,
   "id": "c8f26281",
   "metadata": {},
   "outputs": [],
   "source": [
    "df = pd.read_csv(input_path + file_name)"
   ]
  },
  {
   "cell_type": "code",
   "execution_count": null,
   "id": "b068feff",
   "metadata": {
    "lines_to_next_cell": 2
   },
   "outputs": [],
   "source": [
    "# Output for cleaned CSV file\n",
    "output_file =\"df_cleaned_output_12APR25.csv\"\n",
    "output_path = \"/Users/dianemireillekonan/Python files/\" # change to run on local device\n",
    "output_path = (output_path + output_file)"
   ]
  },
  {
   "cell_type": "markdown",
   "id": "24584c90",
   "metadata": {},
   "source": [
    "DATA UNDERSTANDING PHASE"
   ]
  },
  {
   "cell_type": "markdown",
   "id": "36561e5d",
   "metadata": {},
   "source": [
    "DESCRIPTIVE STATISTICS OF THE VARIABLES"
   ]
  },
  {
   "cell_type": "code",
   "execution_count": null,
   "id": "bb58ed1f",
   "metadata": {},
   "outputs": [],
   "source": [
    "# Information on column variables (non_null count, data types, column names)\n",
    "print(df.info())"
   ]
  },
  {
   "cell_type": "code",
   "execution_count": null,
   "id": "8efc0d3a",
   "metadata": {},
   "outputs": [],
   "source": [
    "# Finding range of ID values\n",
    "print(df.iloc[:, 0].min())\n",
    "print(df.iloc[:, 0].max())"
   ]
  },
  {
   "cell_type": "code",
   "execution_count": null,
   "id": "f0b782f7",
   "metadata": {},
   "outputs": [],
   "source": [
    "# Descriptive stats of numerical variables not including ID\n",
    "print(df.iloc[:, 1:].describe())"
   ]
  },
  {
   "cell_type": "code",
   "execution_count": null,
   "id": "14660820",
   "metadata": {},
   "outputs": [],
   "source": [
    "# Finding value counts for each unique value for categorical variable\n",
    "cat_count_summary = {} # creating empty dictionary\n",
    "for col in df.select_dtypes(include=['object', 'category']).columns: # selecting only the categorical variables\n",
    "    cat_count_summary[col] = df[col].value_counts() # column name = key, count = value\n",
    "# Printing value counts for each\n",
    "for col_name, count in cat_count_summary.items():\n",
    "    print(f\"Count For Each '{col_name}':\\n{count}\\n\")"
   ]
  },
  {
   "cell_type": "code",
   "execution_count": null,
   "id": "f76179d6",
   "metadata": {},
   "outputs": [],
   "source": [
    "# Finding the mode for each column excluding ID (cars.iloc[:,1:])\n",
    "variable_modes = {} # creating empty dictionary\n",
    "for column in df.iloc[:, 1:].columns:\n",
    "    modes = df.iloc[:, 1:][column].mode()  # column name = key, mode = value\n",
    "    # assigning series of mode values to column name key\n",
    "    variable_modes[column] = modes.tolist() # converting to python list"
   ]
  },
  {
   "cell_type": "code",
   "execution_count": null,
   "id": "627e390e",
   "metadata": {},
   "outputs": [],
   "source": [
    "# Printing the modes for each item\n",
    "print(\"Modes:\")\n",
    "for col_name, mode in variable_modes.items():\n",
    "    print(f\"{col_name}: {mode}\")"
   ]
  },
  {
   "cell_type": "code",
   "execution_count": null,
   "id": "bc070fa0",
   "metadata": {},
   "outputs": [],
   "source": [
    "# Finding number of unique entries for each variable - including ID this time\n",
    "unique_entries = {} # creating empty dictionary\n",
    "for column in df.columns:\n",
    "    unique_entries[column] = df[column].nunique()  # column name = key, # unique entries = value"
   ]
  },
  {
   "cell_type": "code",
   "execution_count": null,
   "id": "461f11d5",
   "metadata": {},
   "outputs": [],
   "source": [
    "# Printing the modes for each item\n",
    "print(\"Number of Unique Entries For Each Variable:\")\n",
    "for col_name, unique_count in unique_entries.items():\n",
    "    print(f\"{col_name}: {unique_count}\")"
   ]
  },
  {
   "cell_type": "markdown",
   "id": "ac682c79",
   "metadata": {},
   "source": [
    "GRAPHS AND PLOTS"
   ]
  },
  {
   "cell_type": "code",
   "execution_count": null,
   "id": "86547ffc",
   "metadata": {},
   "outputs": [],
   "source": [
    "# Histograms of integer variables (model_year, milage, price) - excluding ID\n",
    "plt.figure(figsize=(12, 8))\n",
    "plt.subplot(2, 2, 1)\n",
    "plt.hist(df['model_year'], bins=25)\n",
    "plt.xlabel('model_year')\n",
    "plt.ylabel('Frequency')\n",
    "plt.title(\"Histogram of Model Year\")\n",
    "plt.subplot(2,2,2)\n",
    "plt.hist(df['milage'], bins=25)\n",
    "plt.xlabel('Milage')\n",
    "plt.ylabel('Frequency')\n",
    "plt.title(\"Histogram of Mileage\")\n",
    "plt.subplot(2,2,3)\n",
    "plt.hist(df['price'], bins=40)\n",
    "plt.xlabel('Price $')\n",
    "plt.ylabel('Frequency')\n",
    "plt.title(\"Histogram of Used Car Price\")\n",
    "plt.tight_layout()\n",
    "plt.show()"
   ]
  },
  {
   "cell_type": "code",
   "execution_count": null,
   "id": "5c9fd350",
   "metadata": {},
   "outputs": [],
   "source": [
    "# Box plots of integer variables (model_year, milage, price) - excluding ID\n",
    "plt.figure(figsize=(12, 8))\n",
    "plt.subplot(2, 2, 1)\n",
    "plt.boxplot(df['model_year'])\n",
    "plt.xlabel('Model Year')\n",
    "plt.ylabel('Value')\n",
    "plt.title(\"Boxplot of Used Car Model Year\")\n",
    "plt.subplot(2,2,2)\n",
    "plt.boxplot(df['milage'])\n",
    "plt.xlabel('Milage')\n",
    "plt.ylabel('Value')\n",
    "plt.title(\"Boxplot of Mileage\")\n",
    "plt.subplot(2,2,3)\n",
    "plt.boxplot(df['price'])\n",
    "plt.xlabel('Price $ ')\n",
    "plt.ylabel('Value')\n",
    "plt.title(\"Boxplot of Used Car Price\")\n",
    "plt.tight_layout()\n",
    "plt.show()"
   ]
  },
  {
   "cell_type": "markdown",
   "id": "5e2307f8",
   "metadata": {},
   "source": [
    "CATEGORICAL VARIABLES\n",
    "did not do visuals for model_type, ext_color, int_color because too large of a range"
   ]
  },
  {
   "cell_type": "code",
   "execution_count": null,
   "id": "69e09b72",
   "metadata": {},
   "outputs": [],
   "source": [
    "# Bar Graph of Brands\n",
    "df['brand'].value_counts().plot(kind='bar')\n",
    "plt.title(\"Brands\")\n",
    "plt.xlabel(\"Brand Name\")\n",
    "plt.ylabel(\"Frequency\")\n",
    "plt.tight_layout()\n",
    "plt.show()"
   ]
  },
  {
   "cell_type": "code",
   "execution_count": null,
   "id": "e5614e26",
   "metadata": {},
   "outputs": [],
   "source": [
    "# Bar Graph of Transmission Type\n",
    "df['transmission'].value_counts().plot(kind='bar')\n",
    "plt.title(\"Transmission Types\")\n",
    "plt.xlabel(\"Transmission\")\n",
    "plt.ylabel(\"Frequency\")\n",
    "plt.tight_layout()\n",
    "plt.show()"
   ]
  },
  {
   "cell_type": "code",
   "execution_count": null,
   "id": "e73f2a26",
   "metadata": {},
   "outputs": [],
   "source": [
    "# Bar Graph of Accident\n",
    "df['accident'].value_counts().plot(kind='bar')\n",
    "plt.title(\"Accident?\")\n",
    "plt.xlabel(\"Accident?\")\n",
    "plt.ylabel(\"Frequency\")\n",
    "plt.tight_layout()\n",
    "plt.show()"
   ]
  },
  {
   "cell_type": "code",
   "execution_count": null,
   "id": "7767c4a6",
   "metadata": {},
   "outputs": [],
   "source": [
    "# Bar Graph of Clean Title\n",
    "df['clean_title'].value_counts().plot(kind='bar')\n",
    "plt.title(\"Clean Title?\")\n",
    "plt.xlabel(\"Clean Title?\")\n",
    "plt.ylabel(\"Frequency\")\n",
    "plt.tight_layout()\n",
    "plt.show()"
   ]
  },
  {
   "cell_type": "code",
   "execution_count": null,
   "id": "ca35574c-25a7-477b-ac83-8dbafcc08fad",
   "metadata": {},
   "outputs": [],
   "source": [
    "DATA PREPARATION PHASE"
   ]
  },
  {
   "cell_type": "code",
   "execution_count": null,
   "id": "b6ad6b33",
   "metadata": {},
   "outputs": [],
   "source": [
    "# Make a copy so the original dataset stays unchanged\n",
    "df_cleaned = df.copy()"
   ]
  },
  {
   "cell_type": "code",
   "execution_count": null,
   "id": "8274876e",
   "metadata": {},
   "outputs": [],
   "source": [
    "print(df_cleaned.isna().sum())"
   ]
  },
  {
   "cell_type": "code",
   "execution_count": null,
   "id": "e97376a3",
   "metadata": {},
   "outputs": [],
   "source": [
    "# --- BRAND PRICE TIER 1-4 ---\n",
    "df_cleaned['price_log'] = np.log(df_cleaned['price'])"
   ]
  },
  {
   "cell_type": "code",
   "execution_count": null,
   "id": "50b09e73",
   "metadata": {},
   "outputs": [],
   "source": [
    "brand_avg_price = df_cleaned.groupby('brand')['price'].mean().sort_values(ascending=False).reset_index()"
   ]
  },
  {
   "cell_type": "code",
   "execution_count": null,
   "id": "6f16d2d9",
   "metadata": {},
   "outputs": [],
   "source": [
    "brand_avg_price['brand_tier'] = pd.qcut(\n",
    "    brand_avg_price['price'],\n",
    "    q=[0, 0.35, 0.85, 0.95, 1.0],  # 35%, next 50%, next 10%, top 5%\n",
    "    labels=[4, 3, 2, 1]  # 1 = Top 5%, 4 = Bottom 35%\n",
    ")"
   ]
  },
  {
   "cell_type": "code",
   "execution_count": null,
   "id": "973025e9",
   "metadata": {},
   "outputs": [],
   "source": [
    "brand_tier_map = dict(zip(brand_avg_price['brand'], brand_avg_price['brand_tier']))\n",
    "df_cleaned['brand_tier'] = df_cleaned['brand'].map(brand_tier_map)"
   ]
  },
  {
   "cell_type": "code",
   "execution_count": null,
   "id": "273f8be5",
   "metadata": {},
   "outputs": [],
   "source": [
    "# --- MODEL PRICE TIER 1-3 ---\n",
    "model_avg_price = df_cleaned.groupby('model')['price'].mean()\n",
    "low_threshold = model_avg_price.quantile(0.25)\n",
    "high_threshold = model_avg_price.quantile(0.75)"
   ]
  },
  {
   "cell_type": "code",
   "execution_count": null,
   "id": "2b7fdd59",
   "metadata": {},
   "outputs": [],
   "source": [
    "def encode_model_tier(model):\n",
    "    avg_price = model_avg_price.get(model, 0)\n",
    "    if avg_price <= low_threshold:\n",
    "        return 3  # Low-end\n",
    "    elif avg_price >= high_threshold:\n",
    "        return 1  # High-end\n",
    "    else:\n",
    "        return 2  # Mid-range"
   ]
  },
  {
   "cell_type": "code",
   "execution_count": null,
   "id": "52f1bfc2",
   "metadata": {},
   "outputs": [],
   "source": [
    "df_cleaned['model_tier'] = df_cleaned['model'].apply(encode_model_tier)"
   ]
  },
  {
   "cell_type": "code",
   "execution_count": null,
   "id": "7495589d",
   "metadata": {},
   "outputs": [],
   "source": [
    "# --- IMPUTE MISSING FUEL TYPE ---\n",
    "electric_brands = ['Tesla', 'Rivian']\n",
    "df_cleaned['fuel_type'] = df_cleaned.apply(\n",
    "    lambda row: 'Electric' if pd.isna(row['fuel_type']) and row['brand'] in electric_brands else row['fuel_type'],\n",
    "    axis=1\n",
    ")"
   ]
  },
  {
   "cell_type": "code",
   "execution_count": null,
   "id": "8a0b2f97",
   "metadata": {},
   "outputs": [],
   "source": [
    "df_cleaned['engine'] = df_cleaned['engine'].astype(str).str.lower()"
   ]
  },
  {
   "cell_type": "code",
   "execution_count": null,
   "id": "98fea3f9",
   "metadata": {},
   "outputs": [],
   "source": [
    "engine_keyword_map = {\n",
    "    'plug-in': 'Plug-In Hybrid',\n",
    "    'hybrid': 'Hybrid',\n",
    "    'flex fuel': 'Flex Fuel',\n",
    "    'e85': 'Flex Fuel',\n",
    "    'diesel': 'Diesel',\n",
    "    'gasoline': 'Gasoline',\n",
    "    'electric': 'Electric'\n",
    "}"
   ]
  },
  {
   "cell_type": "code",
   "execution_count": null,
   "id": "8cb3ec44",
   "metadata": {},
   "outputs": [],
   "source": [
    "def infer_fuel_type(row):\n",
    "    if pd.isna(row['fuel_type']):\n",
    "        for keyword, fuel in engine_keyword_map.items():\n",
    "            if keyword in row['engine']:\n",
    "                return fuel\n",
    "    return row['fuel_type']"
   ]
  },
  {
   "cell_type": "code",
   "execution_count": null,
   "id": "12ac0bd6",
   "metadata": {},
   "outputs": [],
   "source": [
    "df_cleaned['fuel_type'] = df_cleaned.apply(infer_fuel_type, axis=1)"
   ]
  },
  {
   "cell_type": "code",
   "execution_count": null,
   "id": "c6041b50",
   "metadata": {},
   "outputs": [],
   "source": [
    "# --- ACCIDENT & TITLE BINARY FLAGS ---\n",
    "df_cleaned['accident_flag'] = df_cleaned['accident'].apply(\n",
    "    lambda x: 1 if isinstance(x, str) and 'accident' in x.lower() else 0\n",
    ")\n",
    "df_cleaned['accident_info_provided'] = df_cleaned['accident'].notna().astype(int)"
   ]
  },
  {
   "cell_type": "code",
   "execution_count": null,
   "id": "e6fc7201",
   "metadata": {},
   "outputs": [],
   "source": [
    "df_cleaned['clean_title_flag'] = df_cleaned['clean_title'].apply(\n",
    "    lambda x: 0 if isinstance(x, str) and x.strip().lower() == 'yes' else 1\n",
    ")\n",
    "df_cleaned['title_info_provided'] = df_cleaned['clean_title'].notna().astype(int)"
   ]
  },
  {
   "cell_type": "code",
   "execution_count": null,
   "id": "1f8ddf1b",
   "metadata": {},
   "outputs": [],
   "source": [
    "# Drop original text fields no longer needed\n",
    "df_cleaned.drop(['accident', 'clean_title'], axis=1, inplace=True)"
   ]
  },
  {
   "cell_type": "code",
   "execution_count": null,
   "id": "aa74f7fe",
   "metadata": {},
   "outputs": [],
   "source": [
    "# Step 1: Normalize transmission column (convert to lowercase for safety)\n",
    "df_cleaned['transmission'] = df_cleaned['transmission'].astype(str).str.lower()"
   ]
  },
  {
   "cell_type": "code",
   "execution_count": null,
   "id": "c6333e27",
   "metadata": {},
   "outputs": [],
   "source": [
    "# Step 2: Standardize to 'manual' or 'automatic'\n",
    "df_cleaned['transmission_type'] = df_cleaned['transmission'].apply(\n",
    "    lambda x: 'manual' if x in ['manual', 'm/t'] else 'automatic'\n",
    ")"
   ]
  },
  {
   "cell_type": "code",
   "execution_count": null,
   "id": "856daaf9",
   "metadata": {},
   "outputs": [],
   "source": [
    "# Step 3: Encode to binary: 1 = manual, 2 = automatic\n",
    "df_cleaned['transmission_binary'] = df_cleaned['transmission_type'].map({\n",
    "    'manual': 1,\n",
    "    'automatic': 2\n",
    "})"
   ]
  },
  {
   "cell_type": "code",
   "execution_count": null,
   "id": "a2fbadf9",
   "metadata": {},
   "outputs": [],
   "source": [
    "df_cleaned.drop('transmission_type', axis=1, inplace=True)\n",
    "df_cleaned.drop('transmission', axis=1, inplace=True)"
   ]
  },
  {
   "cell_type": "code",
   "execution_count": null,
   "id": "38d3ce5d",
   "metadata": {},
   "outputs": [],
   "source": [
    "import re\n",
    "from datetime import datetime"
   ]
  },
  {
   "cell_type": "code",
   "execution_count": null,
   "id": "fa9c0f11",
   "metadata": {},
   "outputs": [],
   "source": [
    "# Step 1: Car Age (Assuming current year is 2025)\n",
    "current_year = 2025\n",
    "df_cleaned['car_age'] = current_year - df_cleaned['model_year']"
   ]
  },
  {
   "cell_type": "code",
   "execution_count": null,
   "id": "f31fc9a6",
   "metadata": {},
   "outputs": [],
   "source": [
    "# Step 2: Extract Horsepower from engine (e.g., \"208.0HP\")\n",
    "df_cleaned['horsepower'] = df_cleaned['engine'].str.extract(r'(\\d+\\.?\\d*)\\s*hp', expand=False).astype(float)"
   ]
  },
  {
   "cell_type": "code",
   "execution_count": null,
   "id": "61310938",
   "metadata": {},
   "outputs": [],
   "source": [
    "# Step 3: Extract Engine Size in Liters (e.g., \"2.0L\")\n",
    "df_cleaned['engine_size'] = df_cleaned['engine'].str.extract(r'(\\d+\\.?\\d*)\\s*l', expand=False).astype(float)"
   ]
  },
  {
   "cell_type": "code",
   "execution_count": null,
   "id": "7c655d5a",
   "metadata": {},
   "outputs": [],
   "source": [
    "# Step 4: Cylinders (including 'V6', 'V8', etc.)\n",
    "def extract_cylinders(engine_text):\n",
    "    engine_text = str(engine_text).lower()\n",
    "\n",
    "    # Try to extract from \"x Cylinder\"\n",
    "    match = re.search(r'(\\d+)\\s*cylinder', engine_text)\n",
    "    if match:\n",
    "        return float(match.group(1))\n",
    "\n",
    "    # Check for V6, V8, V10, V12\n",
    "    match = re.search(r'v(\\d+)', engine_text)\n",
    "    if match:\n",
    "        return float(match.group(1))\n",
    "\n",
    "    return np.nan  # return NaN if no match found"
   ]
  },
  {
   "cell_type": "code",
   "execution_count": null,
   "id": "400ee744",
   "metadata": {},
   "outputs": [],
   "source": [
    "df_cleaned['cylinders'] = df_cleaned['engine'].apply(extract_cylinders)"
   ]
  },
  {
   "cell_type": "code",
   "execution_count": null,
   "id": "7f9894b1",
   "metadata": {},
   "outputs": [],
   "source": [
    "df_cleaned.drop('engine', axis=1, inplace=True)\n",
    "df_cleaned.drop('id', axis=1, inplace=True)\n",
    "df_cleaned.drop('model_year', axis=1, inplace=True)"
   ]
  },
  {
   "cell_type": "code",
   "execution_count": null,
   "id": "a904969f",
   "metadata": {},
   "outputs": [],
   "source": [
    "# Define the list of allowed colors\n",
    "allowed_colors = [\"red\", \"black\", \"white\", \"silver\", \"green\", \"yellow\", \"blue\", \"gray\", \"beige\"]"
   ]
  },
  {
   "cell_type": "code",
   "execution_count": null,
   "id": "5f24b962",
   "metadata": {},
   "outputs": [],
   "source": [
    "def recode_color(val):\n",
    "    \"\"\"\n",
    "    Checks if any allowed color is a substring of the given value.\n",
    "    Returns the first allowed color found, or \"exotic\" if none is present.\n",
    "    \"\"\"\n",
    "    # Convert the value to a string and lower-case it for case-insensitive matching.\n",
    "    val_str = str(val).lower()\n",
    "    for color in allowed_colors:\n",
    "        if color in val_str:\n",
    "            return color  # Return the first found allowed color.\n",
    "    return \"exotic\""
   ]
  },
  {
   "cell_type": "code",
   "execution_count": null,
   "id": "c9ededcc",
   "metadata": {},
   "outputs": [],
   "source": [
    "# Apply the function to both ext_col and int_col\n",
    "df_cleaned['ext_col'] = df_cleaned['ext_col'].apply(recode_color)\n",
    "df_cleaned['int_col'] = df_cleaned['int_col'].apply(recode_color)"
   ]
  },
  {
   "cell_type": "code",
   "execution_count": null,
   "id": "6f87f029",
   "metadata": {},
   "outputs": [],
   "source": [
    "from sklearn.preprocessing import StandardScaler"
   ]
  },
  {
   "cell_type": "code",
   "execution_count": null,
   "id": "41d4b46c",
   "metadata": {},
   "outputs": [],
   "source": [
    "# List of columns to scale\n",
    "columns_to_scale = [\"milage\", \"car_age\", \"horsepower\", \"engine_size\", \"cylinders\"]"
   ]
  },
  {
   "cell_type": "code",
   "execution_count": null,
   "id": "0f52948c",
   "metadata": {},
   "outputs": [],
   "source": [
    "# Create a StandardScaler instance\n",
    "scaler = StandardScaler()"
   ]
  },
  {
   "cell_type": "code",
   "execution_count": null,
   "id": "ab0ff1cc",
   "metadata": {},
   "outputs": [],
   "source": [
    "# Fit the scaler to the selected columns and transform them\n",
    "df_cleaned[columns_to_scale] = scaler.fit_transform(df_cleaned[columns_to_scale])"
   ]
  },
  {
   "cell_type": "code",
   "execution_count": null,
   "id": "174afbed",
   "metadata": {},
   "outputs": [],
   "source": [
    "# Impute all remaining missing values with the string \"unknown\"\n",
    "df_cleaned.fillna(\"unknown\", inplace=True)"
   ]
  },
  {
   "cell_type": "code",
   "execution_count": null,
   "id": "63cd8471",
   "metadata": {},
   "outputs": [],
   "source": [
    "# --- EXPORT CSV FILE TO OUTPUT PATH ---\n",
    "df_cleaned.to_csv(output_path, index=False)"
   ]
  },
  {
   "cell_type": "code",
   "execution_count": null,
   "id": "04303a5e-5aff-49f8-ab64-df6f4ba247e2",
   "metadata": {},
   "outputs": [],
   "source": [
    "MODELING PHASE"
   ]
  },
  {
   "cell_type": "code",
   "execution_count": null,
   "id": "e7c5dd09",
   "metadata": {},
   "outputs": [],
   "source": [
    "# Load the cleaned dataset\n",
    "car_df = pd.read_csv(output_path)"
   ]
  },
  {
   "cell_type": "code",
   "execution_count": null,
   "id": "81395bdf",
   "metadata": {
    "lines_to_next_cell": 2
   },
   "outputs": [],
   "source": [
    "# Additional Numeric cleaning\n",
    "for col in ['horsepower', 'engine_size', 'cylinders']:\n",
    "    car_df[col] = pd.to_numeric(car_df[col], errors='coerce')\n",
    "car_df.dropna(subset=['horsepower', 'engine_size', 'cylinders'], inplace=True)"
   ]
  },
  {
   "cell_type": "code",
   "execution_count": null,
   "id": "90e56a1d",
   "metadata": {},
   "outputs": [],
   "source": [
    "# Feature Engineering: add some interaction features to improve predictive power\n",
    "car_df['mileage_per_year'] = car_df['milage'] / (car_df['car_age'] + 1)\n",
    "car_df['engine_per_cylinder'] = car_df['engine_size'] / (car_df['cylinders'] + 1)"
   ]
  },
  {
   "cell_type": "code",
   "execution_count": null,
   "id": "bb771279",
   "metadata": {
    "lines_to_next_cell": 2
   },
   "outputs": [],
   "source": [
    "# Price Binning by Segment\n",
    "car_df['price_segment'] = pd.qcut(car_df['price_log'], q=4, labels=[0, 1, 2, 3]).astype(int)"
   ]
  },
  {
   "cell_type": "code",
   "execution_count": null,
   "id": "ac1aa407",
   "metadata": {
    "lines_to_next_cell": 2
   },
   "outputs": [],
   "source": [
    "# Define features and target\n",
    "drop_cols = ['price', 'price_log', 'brand', 'model', 'fuel_type', 'ext_col', 'int_col']\n",
    "available_features = [col for col in car_df.columns if col not in drop_cols]\n",
    "X = car_df[available_features]\n",
    "y_log = car_df['price_log']"
   ]
  },
  {
   "cell_type": "code",
   "execution_count": null,
   "id": "137d2206",
   "metadata": {
    "lines_to_next_cell": 1
   },
   "outputs": [],
   "source": [
    "# K-Fold Cross Validation, K=5\n",
    "kf = KFold(n_splits=5, shuffle=True, random_state=42)"
   ]
  },
  {
   "cell_type": "code",
   "execution_count": null,
   "id": "a2da0179",
   "metadata": {},
   "outputs": [],
   "source": [
    "# Define evaluation metrics\n",
    "def rmse_log(y_true, y_pred):\n",
    "    return np.sqrt(mean_squared_error(y_true, y_pred))"
   ]
  },
  {
   "cell_type": "code",
   "execution_count": null,
   "id": "7a5700e1",
   "metadata": {},
   "outputs": [],
   "source": [
    "rmse_scorer = make_scorer(rmse_log, greater_is_better=False)\n",
    "mae_scorer = make_scorer(mean_absolute_error, greater_is_better=False)\n",
    "r2_scorer = make_scorer(r2_score)"
   ]
  },
  {
   "cell_type": "code",
   "execution_count": null,
   "id": "444c0853",
   "metadata": {},
   "outputs": [],
   "source": [
    "# All models to be tested\n",
    "models = {\n",
    "    \"Linear Regression\": LinearRegression(),\n",
    "    \"Ridge Regression\": Ridge(alpha=1.0),\n",
    "    \"Lasso Regression\": Lasso(alpha=0.01, max_iter=10000),\n",
    "    \"KNN Regressor\": KNeighborsRegressor(n_neighbors=10),\n",
    "    \"Random Forest\": RandomForestRegressor(\n",
    "        n_estimators=100, max_depth=8, min_samples_split=5, max_features='sqrt', random_state=42\n",
    "    ),\n",
    "    \"Gradient Boosting\": GradientBoostingRegressor(\n",
    "        n_estimators=100, learning_rate=0.03, max_depth=3, subsample=0.8, min_samples_split=5, random_state=42\n",
    "    ),\n",
    "    \"XGBoost\": XGBRegressor(\n",
    "        n_estimators=100, learning_rate=0.03, max_depth=3, subsample=0.8, colsample_bytree=0.8,\n",
    "        objective='reg:squarederror', random_state=42\n",
    "    )\n",
    "}"
   ]
  },
  {
   "cell_type": "code",
   "execution_count": null,
   "id": "eda7456f",
   "metadata": {},
   "outputs": [],
   "source": [
    "# Add Stacked Model (GB + XGB stacked together) to reduce RMSE\n",
    "# Linear Regression used as meta-learner\n",
    "base_learners = [\n",
    "    ('gb', GradientBoostingRegressor(\n",
    "        n_estimators=100, learning_rate=0.03, max_depth=3, subsample=0.8, min_samples_split=5, random_state=42)),\n",
    "    ('xgb', XGBRegressor(\n",
    "        n_estimators=100, learning_rate=0.03, max_depth=3, subsample=0.8, colsample_bytree=0.8,\n",
    "        objective='reg:squarederror', random_state=42))\n",
    "]"
   ]
  },
  {
   "cell_type": "code",
   "execution_count": null,
   "id": "d537d67a",
   "metadata": {
    "lines_to_next_cell": 2
   },
   "outputs": [],
   "source": [
    "stacked_model = StackingRegressor(\n",
    "    estimators=base_learners,\n",
    "    final_estimator=LinearRegression(),\n",
    "    n_jobs=-1\n",
    ")"
   ]
  },
  {
   "cell_type": "code",
   "execution_count": null,
   "id": "1dacb377",
   "metadata": {},
   "outputs": [],
   "source": [
    "models[\"Stacked GB+XGB\"] = stacked_model"
   ]
  },
  {
   "cell_type": "code",
   "execution_count": null,
   "id": "d4139401",
   "metadata": {},
   "outputs": [],
   "source": [
    "# Models Evaluation\n",
    "results_log = []\n",
    "for name, model in models.items():\n",
    "    rmse_scores = -cross_val_score(model, X, y_log, cv=kf, scoring=rmse_scorer)\n",
    "    mae_scores = -cross_val_score(model, X, y_log, cv=kf, scoring=mae_scorer)\n",
    "    r2_scores = cross_val_score(model, X, y_log, cv=kf, scoring=r2_scorer)\n",
    "\n",
    "    results_log.append({\n",
    "        \"Model\": name,\n",
    "        \"Avg Log RMSE\": round(np.mean(rmse_scores), 4),\n",
    "        \"Avg Log MAE\": round(np.mean(mae_scores), 4),\n",
    "        \"Avg R² (Log Target)\": round(np.mean(r2_scores), 4)\n",
    "    })"
   ]
  },
  {
   "cell_type": "code",
   "execution_count": null,
   "id": "60d46934",
   "metadata": {},
   "outputs": [],
   "source": [
    "print(\"After: Models Evaluation\")"
   ]
  },
  {
   "cell_type": "code",
   "execution_count": null,
   "id": "b5793438",
   "metadata": {},
   "outputs": [],
   "source": [
    "# Display results\n",
    "results_df_log = pd.DataFrame(results_log)\n",
    "print(results_df_log)"
   ]
  },
  {
   "cell_type": "code",
   "execution_count": null,
   "id": "5e8cfc2a",
   "metadata": {},
   "outputs": [],
   "source": [
    "stacked_model.fit(X, y_log) # fitting model that had the best results"
   ]
  },
  {
   "cell_type": "markdown",
   "id": "ce554fe6",
   "metadata": {},
   "source": [
    "EVALUATION PHASE"
   ]
  },
  {
   "cell_type": "code",
   "execution_count": null,
   "id": "e62c6ab6",
   "metadata": {},
   "outputs": [],
   "source": [
    "# Visualization - Feature Importance\n",
    "gb_importances_folds = []\n",
    "xgb_importances_folds = []"
   ]
  },
  {
   "cell_type": "code",
   "execution_count": null,
   "id": "2bd6e9e5",
   "metadata": {},
   "outputs": [],
   "source": [
    "for train_idx, val_idx in kf.split(X):\n",
    "    X_train, X_val = X.iloc[train_idx], X.iloc[val_idx]\n",
    "    y_train, y_val = y_log.iloc[train_idx], y_log.iloc[val_idx]\n",
    "\n",
    "\n",
    "    models[\"Gradient Boosting\"].fit(X_train, y_train)\n",
    "    gb_importances_folds.append(models[\"Gradient Boosting\"].feature_importances_)\n",
    "\n",
    "\n",
    "    models[\"XGBoost\"].fit(X_train, y_train)\n",
    "    xgb_importances_folds.append(models[\"XGBoost\"].feature_importances_)"
   ]
  },
  {
   "cell_type": "code",
   "execution_count": null,
   "id": "0871fd98",
   "metadata": {},
   "outputs": [],
   "source": [
    "# Average importances\n",
    "avg_gb_importances = np.mean(gb_importances_folds, axis=0)\n",
    "avg_xgb_importances = np.mean(xgb_importances_folds, axis=0)"
   ]
  },
  {
   "cell_type": "code",
   "execution_count": null,
   "id": "e8184447",
   "metadata": {},
   "outputs": [],
   "source": [
    "# Combine into a DataFrame\n",
    "importance_df = pd.DataFrame({\n",
    "    'Gradient Boosting': avg_gb_importances,\n",
    "    'XGBoost': avg_xgb_importances\n",
    "}, index=X.columns)"
   ]
  },
  {
   "cell_type": "code",
   "execution_count": null,
   "id": "38e5c866",
   "metadata": {},
   "outputs": [],
   "source": [
    "# Sort by average importance of both models\n",
    "importance_df = importance_df.sort_values(by=\"Gradient Boosting\")"
   ]
  },
  {
   "cell_type": "code",
   "execution_count": null,
   "id": "8b81f3e5",
   "metadata": {
    "lines_to_next_cell": 2
   },
   "outputs": [],
   "source": [
    "importance_df.plot(kind='barh', figsize=(12, 10), alpha=0.7)\n",
    "plt.title(\"Feature Importances: Gradient Boosting vs XGBoost (CV Averaged)\")\n",
    "plt.xlabel(\"Importance\")\n",
    "plt.tight_layout()\n",
    "plt.show()"
   ]
  },
  {
   "cell_type": "code",
   "execution_count": null,
   "id": "07a12b3d",
   "metadata": {},
   "outputs": [],
   "source": [
    "models_to_compare = {\n",
    "\"Random Forest\": models[\"Random Forest\"],\n",
    "\"Stacked Model\": stacked_model\n",
    "}"
   ]
  },
  {
   "cell_type": "code",
   "execution_count": null,
   "id": "18b38a2d",
   "metadata": {
    "lines_to_next_cell": 2
   },
   "outputs": [],
   "source": [
    "for model_name, model in models_to_compare.items():\n",
    "    all_preds_log = []\n",
    "    all_actuals_log = []\n",
    "\n",
    "    for train_idx, val_idx in kf.split(X):\n",
    "        X_train, X_val = X.iloc[train_idx], X.iloc[val_idx]\n",
    "        y_train, y_val = y_log.iloc[train_idx], y_log.iloc[val_idx]\n",
    "\n",
    "        model.fit(X_train, y_train)\n",
    "        preds_log = model.predict(X_val)\n",
    "\n",
    "        all_preds_log.extend(preds_log)\n",
    "        all_actuals_log.extend(y_val)\n",
    "\n",
    "    # Convert to arrays\n",
    "    all_preds_log = np.array(all_preds_log)\n",
    "    all_actuals_log = np.array(all_actuals_log)\n",
    "    residuals = all_actuals_log - all_preds_log\n",
    "    r2 = r2_score(all_actuals_log, all_preds_log)\n",
    "\n",
    "    # Visualization - Predicted vs Actual Plot\n",
    "    plt.figure(figsize=(8, 6))\n",
    "    plt.scatter(all_actuals_log, all_preds_log, alpha=0.3)\n",
    "    plt.plot([min(all_actuals_log), max(all_actuals_log)],\n",
    "    [min(all_actuals_log), max(all_actuals_log)],\n",
    "    color='red', linestyle='--', label='Ideal fit')\n",
    "    plt.xlabel(\"Log(Actual Price)\")\n",
    "    plt.ylabel(\"Log(Predicted Price)\")\n",
    "    plt.title(f\"{model_name} - Predicted vs Actual Prices\\nRÂ² = {r2:.4f}\")\n",
    "    plt.grid(True)\n",
    "    plt.legend()\n",
    "    plt.tight_layout()\n",
    "    plt.show()\n",
    "\n",
    "    # Visualization - Residual Plot\n",
    "    plt.figure(figsize=(8, 6))\n",
    "    plt.scatter(all_preds_log, residuals, alpha=0.3)\n",
    "    plt.axhline(0, color='red', linestyle='--')\n",
    "    plt.xlabel(\"Log(Predicted Price)\")\n",
    "    plt.ylabel(\"Residual (Log Actual - Log Predicted)\")\n",
    "    plt.title(f\"{model_name} - Residual Plot\\nRÂ² = {r2:.4f}\")\n",
    "    plt.grid(True)\n",
    "    plt.tight_layout()\n",
    "    plt.show()"
   ]
  },
  {
   "cell_type": "markdown",
   "id": "6196e907",
   "metadata": {},
   "source": [
    "DEPLOYMENT PHASE"
   ]
  },
  {
   "cell_type": "code",
   "execution_count": null,
   "id": "5396ba37",
   "metadata": {},
   "outputs": [],
   "source": [
    "print(\"DEPLOYMENT/ NEW DATA INPUT EXAMPLE \\n\")\n",
    "new_car_data = []  # empty list for new user data input to be added to"
   ]
  },
  {
   "cell_type": "markdown",
   "id": "badad555",
   "metadata": {},
   "source": [
    "\"\"****\" used to help separate questions"
   ]
  },
  {
   "cell_type": "code",
   "execution_count": null,
   "id": "6bf385ad",
   "metadata": {},
   "outputs": [],
   "source": [
    "while True:  # using while loop so multiple cars can be predicted/gives option to reset loop/questions\n",
    "    print(\"Used Car Prediction Model. Please answer the prompts below to predict the cost of the used car. \\n\"\n",
    "          \"To quit please type 'quit' when prompted to input an answer. \\n\"\n",
    "          \"**********************************************************************************************************\")\n",
    "    print(\"\\n\")\n",
    "    # user input mileage\n",
    "    milage = input(\"Please enter mileage of the car (NUMBERS ONLY): \")\n",
    "\n",
    "    if milage.lower() == \"quit\":  # to end loop\n",
    "        print(\"*****************************************************************************************\")\n",
    "        print(\"Thank you for predicting your car price\")  # goodbye message\n",
    "        break  # stops loop\n",
    "    elif milage.isdigit():\n",
    "        new_car_data.append(milage)  # adding to new_car_data\n",
    "        print(f\" mileage input: {milage}\")\n",
    "    else:\n",
    "        print(\"**********************************************************************************\")\n",
    "        print(\"Please restart and only input a NUMBER or 'quit' to end form\")\n",
    "        print(\"**********************************************************************************\")\n",
    "        new_car_data = []  # resetting new_car_data\n",
    "        continue\n",
    "\n",
    "    print(\"**********************************************************************************\")\n",
    "    print(\"\\n\")\n",
    "\n",
    "    # user input brand tier\n",
    "    brand = input(\"Please input brand of car (example: Jeep or Ford):\")\n",
    "\n",
    "    # creating subsets for each brand and their tier (1-4)\n",
    "\n",
    "    # brand_tier 1 subset\n",
    "    tier_1b = car_df[car_df['brand_tier'] == 1]  # only getting instances where brand_tier = 1\n",
    "    tier_1b_unique = tier_1b.drop_duplicates(subset=['brand'])  # dropping duplicate brands in tier 1\n",
    "    brand_tier_1 = tier_1b_unique[\"brand\"]  # subset to only get brand column\n",
    "    brand_tier_1 = brand_tier_1.str.lower()  # making all values lower case\n",
    "\n",
    "    # brand_tier 2 subset\n",
    "    tier_2b = car_df[car_df['brand_tier'] == 2]  # only getting instances where brand_tier = 2\n",
    "    tier_2b_unique = tier_2b.drop_duplicates(subset=['brand'])  # dropping duplicate brands in tier 2\n",
    "    brand_tier_2 = tier_2b_unique[\"brand\"]  # subset to only get brand column\n",
    "    brand_tier_2 = brand_tier_2.str.lower()  # making all values lower case\n",
    "\n",
    "    # brand_tier 3 subset\n",
    "    tier_3b = car_df[car_df['brand_tier'] == 3]  # only getting instances where brand_tier = 4\n",
    "    tier_3b_unique = tier_3b.drop_duplicates(subset=['brand'])  # dropping duplicate brands in tier 4\n",
    "    brand_tier_3 = tier_3b_unique[\"brand\"]  # subset to only get brand column\n",
    "    brand_tier_3 = brand_tier_3.str.lower()  # making all values lower case\n",
    "\n",
    "    # brand_tier 4 subset\n",
    "    tier_4b = car_df[car_df['brand_tier'] == 3]  # only getting instances where brand_tier = 4\n",
    "    tier_4b_unique = tier_4b.drop_duplicates(subset=['brand'])  # dropping duplicate brands in tier 4\n",
    "    brand_tier_4 = tier_4b_unique[\"brand\"]  # subset to only get brand column\n",
    "    brand_tier_4 = brand_tier_4.str.lower()  # making all values lower case\n",
    "\n",
    "    # matching user input of model to their brand tier values if in brand_tier subset\n",
    "    if brand.lower() in brand_tier_1.values:\n",
    "        brand_tier = 1\n",
    "        new_car_data.append(brand_tier)  # appending brand_tier value to new_car_data[]\n",
    "        print(f\" brand tier input: {brand_tier}\")\n",
    "\n",
    "    elif brand.lower() in brand_tier_2.values:\n",
    "        brand_tier = 2\n",
    "        new_car_data.append(brand_tier)\n",
    "        print(f\" brand tier input: {brand_tier}\")\n",
    "\n",
    "    elif brand.lower() in brand_tier_3.values:\n",
    "        brand_tier = 3\n",
    "        new_car_data.append(brand_tier)\n",
    "        print(f\" brand tier input: {brand_tier}\")\n",
    "\n",
    "    elif brand.lower() in brand_tier_4.values:\n",
    "        brand_tier = 4\n",
    "        new_car_data.append(brand_tier)\n",
    "        print(f\" brand tier input: {brand_tier}\")\n",
    "\n",
    "    elif brand.lower() == \"quit\":\n",
    "        print(\"*****************************************************************************************\")\n",
    "        print(\"Thank you for predicting your car price\")  # goodbye message\n",
    "        break  # stops loop\n",
    "\n",
    "    else:\n",
    "        print(\"**********************************************************************************\")\n",
    "        print(\n",
    "            \"Please restart and add in correct brand name. Please contact support email if brand of car is not allowed. \\n\"\n",
    "            \"Updates/retraining of model occur bi-annually if new brands emerge in market\")\n",
    "        print(\"**********************************************************************************\")\n",
    "        # resetting new_car_data\n",
    "        new_car_data = []\n",
    "        continue\n",
    "\n",
    "    print(\"**********************************************************************************\")\n",
    "    print(\"\\n\")\n",
    "\n",
    "    # model user input\n",
    "    model = input(\"Please input model of car (Example: Liberty Sport or E350 Super Duty XLT):\")\n",
    "\n",
    "    # creating subsets for each tier and their associated model\n",
    "    # model_tier 1 subset\n",
    "    tier_1m = car_df[car_df['model_tier'] == 1] # only getting instances where model_tier = 1\n",
    "    tier_1_unique = tier_1m.drop_duplicates(subset=['model']) # dropping duplicate models in tier 1\n",
    "    model_tier_1 = tier_1_unique[\"model\"] # subset to only get model column\n",
    "    model_tier_1 = model_tier_1.str.lower() # making all values lower case\n",
    "\n",
    "    # model_tier 2 subset\n",
    "    tier_2m = car_df[car_df['model_tier'] == 2] # dropping duplicate models in tier 2\n",
    "    tier_2_unique = tier_2m.drop_duplicates(subset=['model'])\n",
    "    model_tier_2 = tier_2_unique[\"model\"] # subset to only get model column\n",
    "    model_tier_2 = model_tier_2.str.lower() # making all values lower case\n",
    "\n",
    "    # model_tier 3 subset\n",
    "    tier_3m = car_df[car_df['model_tier'] == 3]\n",
    "    tier_3_unique = tier_3m.drop_duplicates(subset=['model'])\n",
    "    model_tier_3 = tier_3_unique[\"model\"]\n",
    "    model_tier_3 = model_tier_3.str.lower()"
   ]
  },
  {
   "cell_type": "code",
   "execution_count": null,
   "id": "2cb89dec",
   "metadata": {},
   "outputs": [],
   "source": [
    "# matching user input of model to their model tier values if in model_tier subset\n",
    "    if model.lower() in model_tier_1.values:\n",
    "        model_tier = 1\n",
    "        new_car_data.append(model_tier) # appending model_tier value to new_car_data[]\n",
    "        print(f\" model tier input: {model_tier}\")\n",
    "\n",
    "    elif model.lower() in model_tier_2.values:\n",
    "        model_tier = 2\n",
    "        new_car_data.append(model_tier)\n",
    "        print(f\" model tier input: {model_tier}\")\n",
    "\n",
    "    elif model.lower() in model_tier_3.values:\n",
    "        model_tier = 3\n",
    "        new_car_data.append(model_tier)\n",
    "        print(f\" model tier input: {model_tier}\")\n",
    "\n",
    "    elif model.lower() == \"quit\":\n",
    "        print(\"*****************************************************************************************\")\n",
    "        print(\"Thank you for predicting your car price\")  # goodbye message\n",
    "        break  # stops loop\n",
    "\n",
    "    else:\n",
    "        print(\"**********************************************************************************\")\n",
    "        print (\"Please restart and add in correct model name. Please contact support email if model of car is not allowed. \\n\"\n",
    "               \"Updates/retraining of model occur bi-annually if new models emerge in market\")\n",
    "        print(\"**********************************************************************************\")\n",
    "        # resetting new_car_data\n",
    "        new_car_data = []\n",
    "        continue\n",
    "\n",
    "    print(\"**********************************************************************************\")\n",
    "    print(\"\\n\")\n",
    "    accident_flag = input(\"Was the used car flagged for an accident? \\n\"\n",
    "                          \"Please input '1' if Yes and '0' if No\")\n",
    "    num_flag = int(accident_flag)\n",
    "    if accident_flag in ['0', '1']:\n",
    "        new_car_data.append(num_flag)\n",
    "        print(f\" accident flag input: {accident_flag}\")\n",
    "\n",
    "    elif accident_flag.lower() == \"quit\":\n",
    "        print(\"*****************************************************************************************\")\n",
    "        print(\"Thank you for predicting your car price\")  # goodbye message\n",
    "        break  # stops loop\n",
    "\n",
    "    else:\n",
    "        print(\"**********************************************************************************\")\n",
    "        print(\"Please restart and enter '1' if Yes and '0' if No only\")\n",
    "        print(\"**********************************************************************************\")\n",
    "        new_car_data = [] # resetting new_car_data\n",
    "        continue # restarting loop from beginning\n",
    "\n",
    "\n",
    "    print(\"**********************************************************************************\")\n",
    "    print(\"\\n\")\n",
    "    accident_info_provided = input(\"Was accident information provided - this includes if reported 'no accidents'? \\n\"\n",
    "                                   \"Please input '1' if Yes and '0' if No/Unsure\")\n",
    "    accident_info_num = int(accident_info_provided)\n",
    "    if accident_info_provided in ['0', '1']:\n",
    "        new_car_data.append(accident_info_num)\n",
    "        print(f\" accident info provided input: {accident_info_provided}\")\n",
    "    elif accident_info_provided.lower() == \"quit\":\n",
    "        print(\"*****************************************************************************************\")\n",
    "        print(\"Thank you for predicting your car price\")  # goodbye message\n",
    "        break  # stops loop\n",
    "    else:\n",
    "        print(\"**********************************************************************************\")\n",
    "        print(\"Please restart and only input 1 if yes or 0 if no/unsure\")\n",
    "        print(\"**********************************************************************************\")\n",
    "        # resetting new_car_data\n",
    "        new_car_data = []\n",
    "        continue\n",
    "    print(\"**********************************************************************************\")\n",
    "    print(\"\\n\")\n",
    "    clean_title_flag = input(\"Was title flagged as clean'? \\n\"\n",
    "                             \"Please input '1' if Yes and '0' if No\")\n",
    "    clean_title_flag_num = int(clean_title_flag)\n",
    "    if clean_title_flag in ['0', '1']:\n",
    "        new_car_data.append(clean_title_flag_num)\n",
    "        print(f\" clean title flag input: {clean_title_flag}\")\n",
    "    elif clean_title_flag.lower() == \"quit\":\n",
    "        print(\"*****************************************************************************************\")\n",
    "        print(\"Thank you for predicting your car price\")  # goodbye message\n",
    "        break  # stops loop\n",
    "    else:\n",
    "        print(\"**********************************************************************************\")\n",
    "        print(\"Please restart and only input 1 if yes or 0 if no/unsure\")\n",
    "        print(\"**********************************************************************************\")\n",
    "        new_car_data = []# resetting new_car_data\n",
    "        continue\n",
    "    print(\"**********************************************************************************\")\n",
    "    print(\"\\n\")\n",
    "    title_info_provided = input(\"Was title information provided'? \\n\"\n",
    "                                \"Please input '1' if Yes and '0' if No/Unsure\")\n",
    "    title_info_provided_num = int(title_info_provided)\n",
    "    if title_info_provided in ['0', '1']:\n",
    "        new_car_data.append(title_info_provided_num)\n",
    "        print(f\" title provided input: {title_info_provided}\")\n",
    "    elif title_info_provided.lower() == \"quit\":\n",
    "        print(\"*****************************************************************************************\")\n",
    "        print(\"Thank you for predicting your car price\")  # goodbye message\n",
    "        break  # stops loop\n",
    "    else:\n",
    "        print(\"**********************************************************************************\")\n",
    "        print(\"Please restart and only input 1 if yes or 0 if no/unsure\")\n",
    "        print(\"**********************************************************************************\")\n",
    "        new_car_data = []# resetting new_car_data\n",
    "        continue\n",
    "\n",
    "    print(\"**********************************************************************************\")\n",
    "    print(\"\\n\")\n",
    "    transmission_binary = input(\"What is the type of transmission of car? \\n\"\n",
    "                                \"Please input '1' if Manual and '2' Automatic\")\n",
    "    transmission_num = int(title_info_provided)\n",
    "    if transmission_binary in ['1', '2']:\n",
    "        new_car_data.append(transmission_num)\n",
    "        print(f\" title provided input: {transmission_binary}\")\n",
    "    elif transmission_binary.lower() == \"quit\":\n",
    "        print(\"*****************************************************************************************\")\n",
    "        print(\"Thank you for predicting your car price\")  # goodbye message\n",
    "        break  # stops loop\n",
    "    else:\n",
    "        print(\"**********************************************************************************\")\n",
    "        print(\"Please restart and only input 1 if Manual and 2 if Automatic\")\n",
    "        print(\"**********************************************************************************\")\n",
    "        new_car_data = []# resetting new_car_data\n",
    "        continue\n",
    "    print(\"**********************************************************************************\")\n",
    "    print(\"\\n\")\n",
    "    car_age = input(\"Please enter model year of car NUMBER ONLY: \")\n",
    "\n",
    "    if car_age.lower() == \"quit\":\n",
    "        print(\"*****************************************************************************************\")\n",
    "        print(\"Thank you for predicting your car price\")  # goodbye message\n",
    "        break  # stops loop\n",
    "    elif car_age.isdigit():\n",
    "        current_age = int(current_year) - int(car_age)\n",
    "        new_car_data.append(current_age)\n",
    "        print(f\" model year input: {car_age}\")\n",
    "    else:\n",
    "        print(\"**********************************************************************************\")\n",
    "        print(\"Please restart and only input a NUMBER or 'quit' to end form\")\n",
    "        print(\"**********************************************************************************\")\n",
    "        new_car_data = []  # resetting new_car_data\n",
    "        continue\n",
    "\n",
    "    print(\"******************************************************************************************************* \\n\")\n",
    "    print(\"\\n\")\n",
    "    horsepower = input(\"Please enter horsepower of car: NUMBER ONLY\")\n",
    "    if horsepower.lower() == \"quit\":\n",
    "        print(\"*****************************************************************************************\")\n",
    "        print(\"Thank you for predicting your car price\")  # goodbye message\n",
    "        break  # stops loop\n",
    "    elif horsepower.isdigit():\n",
    "        new_car_data.append(horsepower)\n",
    "        print(f\" horsepower input: {horsepower}\")\n",
    "    else:\n",
    "        print(\"**********************************************************************************\")\n",
    "        print(\"Please restart and only input a NUMBER or 'quit' to end form\")\n",
    "        print(\"**********************************************************************************\")\n",
    "        new_car_data = []  # resetting new_car_data\n",
    "        continue\n",
    "\n",
    "    print(\"******************************************************************************************************* \\n\")\n",
    "    print(\"\\n\")\n",
    "    engine_size = input(\"Please enter engine size of car: NUMBER ONLY\")\n",
    "    if engine_size.lower() == \"quit\":\n",
    "        print(\"*****************************************************************************************\")\n",
    "        print(\"Thank you for predicting your car price\")  # goodbye message\n",
    "        break  # stops loop\n",
    "    elif engine_size.isdigit():\n",
    "        new_car_data.append(engine_size)\n",
    "        print(f\" engine size input: {engine_size}\")\n",
    "    else:\n",
    "        print(\"**********************************************************************************\")\n",
    "        print(\"Please restart and only input a NUMBER or 'quit' to end form\")\n",
    "        print(\"**********************************************************************************\")\n",
    "        new_car_data = []  # resetting new_car_data\n",
    "        continue\n",
    "\n",
    "    print(\"******************************************************************************************************* \\n\")\n",
    "    print(\"\\n\")\n",
    "    cylinders = input(\"Please enter number of cylinders of car: NUMBER ONLY \")\n",
    "    if cylinders.lower() == \"quit\":\n",
    "        print(\"*****************************************************************************************\")\n",
    "        print(\"Thank you for predicting your car price\")  # goodbye message\n",
    "        break  # stops loop\n",
    "    elif cylinders.isdigit():\n",
    "        new_car_data.append(cylinders)\n",
    "        print(f\" cylinder input: {cylinders}\")\n",
    "    else:\n",
    "        print(\"**********************************************************************************\")\n",
    "        print(\"Please restart and only input a NUMBER or 'quit' to end form\")\n",
    "        print(\"**********************************************************************************\")\n",
    "        new_car_data = []  # resetting new_car_data\n",
    "        continue\n",
    "    print(\"******************************************************************************************************* \\n\")\n",
    "\n",
    "    # creating column names for new dataframe for info input by user\n",
    "    new_car_data_col = [\"milage\", \"brand_tier\", \"model_tier\", \"accident_flag\", \"accident_info_provided\",\n",
    "                        \"clean_title_flag\",\n",
    "                        \"title_info_provided\", \"transmission_binary\", \"car_age\", \"horsepower\", \"engine_size\",\n",
    "                        \"cylinders\"]\n",
    "    # creating new dataframe from info input by user\n",
    "    new_car_data_df = pd.DataFrame([new_car_data], columns=new_car_data_col)\n",
    "\n",
    "    # List of column names of new data to scale\n",
    "    new_columns_to_scale = [\"milage\", \"car_age\", \"horsepower\", \"engine_size\", \"cylinders\"]\n",
    "\n",
    "    # Scaled new user input data using previous scaler of training data for model\n",
    "    new_car_data_df[new_columns_to_scale] = scaler.transform(new_car_data_df[new_columns_to_scale])\n",
    "\n",
    "    # calculating miles_per_year, engine_per_cylinder based on user input data\n",
    "    mileage_per_year = new_car_data_df.loc[0, 'milage'] / (new_car_data_df.loc[0, 'car_age'] + 1)\n",
    "    engine_per_cylinder = new_car_data_df.loc[0, 'engine_size'] / (new_car_data_df.loc[0, 'cylinders'] + 1)\n",
    "\n",
    "    # price segment\n",
    "    price_segment = 0 #initializing variable\n",
    "\n",
    "    # correlating model tier to price segment\n",
    "    if model_tier ==1:\n",
    "        price_segment = 3\n",
    "\n",
    "    elif model_tier == 2:\n",
    "        price_segment = 2\n",
    "    else:\n",
    "        price_segment = 1\n",
    "\n",
    "\n",
    "    # column names for newly calculated/new variables\n",
    "    new_df_col = ['mileage_per_year', 'engine_per_cylinder', 'price_segment']\n",
    "    # creation of dataframe with calculated variables and appending it to previously created dataset\n",
    "    new_variables_df = pd.DataFrame([[mileage_per_year, engine_per_cylinder, price_segment]], columns=new_df_col)\n",
    "    new_data_to_predict = pd.concat([new_car_data_df, new_variables_df], axis=1)\n",
    "\n",
    "    print(f\" Used Car Data to Predict: \\n {new_data_to_predict}\")\n",
    "    print(\"*****************************************************************************************\")\n",
    "\n",
    "    # NEW CAR PRICE PREDICTION\n",
    "    new_car_predict = stacked_model.predict(new_data_to_predict)\n",
    "    print(f\" Predicted Car Price: $  {np.exp(new_car_predict)}\") # converting from np.log to $\n",
    "\n",
    "    print(\"*****************************************************************************************\")\n",
    "\n",
    "    # Gives user the option to quit or to input new car data\n",
    "    retry = input(\"Do you want to predict another car price? \\n\"\n",
    "                  \"Please type 'Yes' to predict another car, 'No' to Quit.\")\n",
    "\n",
    "    if retry.lower() == \"no\":\n",
    "        print(\"*****************************************************************************************\")\n",
    "        print(\"Thank you for predicting your car price\")  # goodbye message\n",
    "        break  # stops loop\n",
    "    elif retry.lower() == \"yes\":\n",
    "        new_car_data.clear()  # clears out new data list to allow user to add in new info\n",
    "        continue"
   ]
  }
 ],
 "metadata": {
  "jupytext": {
   "cell_metadata_filter": "-all",
   "main_language": "python",
   "notebook_metadata_filter": "-all"
  },
  "kernelspec": {
   "display_name": "Python 3 (ipykernel)",
   "language": "python",
   "name": "python3"
  },
  "language_info": {
   "codemirror_mode": {
    "name": "ipython",
    "version": 3
   },
   "file_extension": ".py",
   "mimetype": "text/x-python",
   "name": "python",
   "nbconvert_exporter": "python",
   "pygments_lexer": "ipython3",
   "version": "3.10.16"
  }
 },
 "nbformat": 4,
 "nbformat_minor": 5
}
